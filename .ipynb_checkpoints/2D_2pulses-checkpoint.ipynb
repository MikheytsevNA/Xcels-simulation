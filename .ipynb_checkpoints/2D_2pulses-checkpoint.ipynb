{
 "cells": [
  {
   "cell_type": "markdown",
   "metadata": {},
   "source": [
    "$n_0$ = 12\n",
    "\n",
    "r = 2 $\\mu m$\n",
    "\n",
    "Два одинаковых импульса, падающих под углами phi и -phi между нормалью к поверхности мишени и вектороми **k**\n",
    "\n",
    "Эффективность на джуль падающей энергии ниже, но задача о наклонном падении не оптимизировалась по параметрам."
   ]
  },
  {
   "cell_type": "code",
   "execution_count": 1,
   "metadata": {
    "tags": []
   },
   "outputs": [],
   "source": [
    "import numpy as np\n",
    "import matplotlib.pyplot as plt\n",
    "import os\n",
    "import subprocess\n",
    "import struct\n",
    "from math import floor\n",
    "import gzip\n",
    "from scipy.interpolate import griddata\n",
    "import cmath"
   ]
  },
  {
   "cell_type": "code",
   "execution_count": 2,
   "metadata": {},
   "outputs": [],
   "source": [
    "# Set the font family and size to use for Matplotlib figures.\n",
    "plt.rcParams['font.family'] = 'serif'\n",
    "plt.rcParams['font.size'] = 25"
   ]
  },
  {
   "cell_type": "code",
   "execution_count": 3,
   "metadata": {},
   "outputs": [
    {
     "name": "stdout",
     "output_type": "stream",
     "text": [
      "['real_n_12.000_phi_13.80.dat', 'real_n_12.000_phi_17.10.dat', 'real_n_12.000_phi_20.10.dat', 'real_n_12.000_phi_27.30.dat', 'real_n_12.000_phi_28.50.dat', 'real_n_12.000_phi_33.90.dat', 'real_n_12.000_phi_6.00.dat']\n"
     ]
    }
   ],
   "source": [
    "l = subprocess.check_output(['ls',], cwd = r\"./data/2D_2pulses_angle/\")\n",
    "path_ends = l.split()\n",
    "path_ends = sorted([i.decode('ascii') for i in path_ends[:]])\n",
    "print(path_ends[:])"
   ]
  },
  {
   "cell_type": "code",
   "execution_count": 4,
   "metadata": {},
   "outputs": [],
   "source": [
    "energy_i = 2.0600802417931993e+35"
   ]
  },
  {
   "cell_type": "code",
   "execution_count": 5,
   "metadata": {},
   "outputs": [
    {
     "data": {
      "text/plain": [
       "7"
      ]
     },
     "execution_count": 5,
     "metadata": {},
     "output_type": "execute_result"
    }
   ],
   "source": [
    "len(path_ends)"
   ]
  },
  {
   "cell_type": "code",
   "execution_count": 6,
   "metadata": {},
   "outputs": [],
   "source": [
    "def read_file(dim2, name_of_file):\n",
    "    #print(name_of_file)\n",
    "    with open(name_of_file, \"r\") as file:\n",
    "        line = file.read()\n",
    "        data = line.split(\"    \")\n",
    "        dim1 = int((len(data)-1)/(3003))\n",
    "        omega = np.zeros(dim1)\n",
    "        lambda_w = np.zeros(dim1)\n",
    "        rcs = np.zeros((dim1,dim2))\n",
    "        for i in range(dim1):\n",
    "            omega[i] = float(data[0+i*(dim2+2)])\n",
    "            #print(i)\n",
    "            lambda_w[i] = float(data[1+i*(dim2+2)])\n",
    "            rcs[i,:] = data[2+i*(dim2+2):(i+1)*(dim2+2)]\n",
    "    return omega, lambda_w, rcs"
   ]
  },
  {
   "cell_type": "code",
   "execution_count": 16,
   "metadata": {
    "tags": []
   },
   "outputs": [],
   "source": [
    "energy_n_1 = []\n",
    "phi_array = []\n",
    "for i in sorted(path_ends[:]):\n",
    "    omega_amp, lambda_w_amp, rcs_amp = read_file(3001, r\"./data/2D_2pulses_angle/\" + i)\n",
    "    filter_lambda = np.where(lambda_w_amp>3) # 3 microns\n",
    "    #print(i)\n",
    "    #print(\"energy    = \" + str((np.sum(rcs_amp[filter_lambda ,:750]) + np.sum(rcs_amp[filter_lambda ,2250:]))/energy_i))\n",
    "    energy_n_1.append((np.sum(rcs_amp[filter_lambda ,:750]) + np.sum(rcs_amp[filter_lambda ,2250:]))/energy_i)\n",
    "    phi_array.append(np.pi/float(i[18:-4])/np.pi*180)\n",
    "energy_n_1 = np.array(energy_n_1)\n",
    "phi_array = np.array(phi_array)"
   ]
  },
  {
   "cell_type": "code",
   "execution_count": 20,
   "metadata": {},
   "outputs": [
    {
     "data": {
      "image/png": "[encoded data removed]",
      "text/plain": [
       "<Figure size 1440x720 with 1 Axes>"
      ]
     },
     "metadata": {
      "needs_background": "light"
     },
     "output_type": "display_data"
    }
   ],
   "source": [
    "fig = plt.figure(figsize=(20,10))\n",
    "plt.plot(phi_array,energy_n_1*100, linestyle = \"none\", marker = \".\", markersize = 20)\n",
    "plt.xlabel(r\"$phi$\")\n",
    "plt.ylabel(r\"$\\eta$ (> 3$\\mu m$), %\")\n",
    "plt.xticks((np.arange(5,32,5)))\n",
    "#plt.yticks(np.arange(0,limit, 0.2))\n",
    "plt.ylim(1e-3, 0.8)\n",
    "#plt.xlim(2, 14)\n",
    "plt.grid()\n",
    "plt.show()"
   ]
  },
  {
   "cell_type": "code",
   "execution_count": null,
   "metadata": {},
   "outputs": [],
   "source": []
  }
 ],
 "metadata": {
  "kernelspec": {
   "display_name": "Python 3 (ipykernel)",
   "language": "python",
   "name": "python3"
  },
  "language_info": {
   "codemirror_mode": {
    "name": "ipython",
    "version": 3
   },
   "file_extension": ".py",
   "mimetype": "text/x-python",
   "name": "python",
   "nbconvert_exporter": "python",
   "pygments_lexer": "ipython3",
   "version": "3.8.12"
  }
 },
 "nbformat": 4,
 "nbformat_minor": 4
}
